{
 "cells": [
  {
   "cell_type": "code",
   "execution_count": 1,
   "metadata": {},
   "outputs": [
    {
     "name": "stderr",
     "output_type": "stream",
     "text": [
      "Using TensorFlow backend.\n"
     ]
    }
   ],
   "source": [
    "from numpy import loadtxt\n",
    "from keras.models import Sequential\n",
    "from keras.layers import Dense"
   ]
  },
  {
   "cell_type": "code",
   "execution_count": 2,
   "metadata": {},
   "outputs": [],
   "source": [
    "dataset = loadtxt('pima-indians-diabetes-data.csv',delimiter=',')"
   ]
  },
  {
   "cell_type": "code",
   "execution_count": 3,
   "metadata": {},
   "outputs": [
    {
     "data": {
      "text/plain": [
       "array([[  6.   , 148.   ,  72.   , ...,   0.627,  50.   ,   1.   ],\n",
       "       [  1.   ,  85.   ,  66.   , ...,   0.351,  31.   ,   0.   ],\n",
       "       [  8.   , 183.   ,  64.   , ...,   0.672,  32.   ,   1.   ],\n",
       "       ...,\n",
       "       [  5.   , 121.   ,  72.   , ...,   0.245,  30.   ,   0.   ],\n",
       "       [  1.   , 126.   ,  60.   , ...,   0.349,  47.   ,   1.   ],\n",
       "       [  1.   ,  93.   ,  70.   , ...,   0.315,  23.   ,   0.   ]])"
      ]
     },
     "execution_count": 3,
     "metadata": {},
     "output_type": "execute_result"
    }
   ],
   "source": [
    "dataset"
   ]
  },
  {
   "cell_type": "code",
   "execution_count": 4,
   "metadata": {},
   "outputs": [],
   "source": [
    "X=dataset[:,0:8]\n",
    "Y=dataset[:,8]"
   ]
  },
  {
   "cell_type": "code",
   "execution_count": 5,
   "metadata": {},
   "outputs": [],
   "source": [
    "model=Sequential()\n",
    "model.add(Dense(12,input_dim=8,activation='relu'))\n",
    "model.add(Dense(8,activation='relu'))\n",
    "model.add(Dense(1,activation='sigmoid'))"
   ]
  },
  {
   "cell_type": "code",
   "execution_count": 6,
   "metadata": {},
   "outputs": [],
   "source": [
    "model.compile(loss='binary_crossentropy',optimizer='adam',metrics=['accuracy'])"
   ]
  },
  {
   "cell_type": "code",
   "execution_count": 7,
   "metadata": {},
   "outputs": [
    {
     "name": "stdout",
     "output_type": "stream",
     "text": [
      "Epoch 1/150\n",
      "768/768 [==============================] - 2s 3ms/step - loss: 3.3833 - accuracy: 0.5690\n",
      "Epoch 2/150\n",
      "768/768 [==============================] - 0s 332us/step - loss: 2.0175 - accuracy: 0.5156\n",
      "Epoch 3/150\n",
      "768/768 [==============================] - 0s 596us/step - loss: 1.3491 - accuracy: 0.54690s - loss: 1.4645 - accu\n",
      "Epoch 4/150\n",
      "768/768 [==============================] - 0s 595us/step - loss: 1.1203 - accuracy: 0.5742\n",
      "Epoch 5/150\n",
      "768/768 [==============================] - 1s 655us/step - loss: 1.0346 - accuracy: 0.5898\n",
      "Epoch 6/150\n",
      "768/768 [==============================] - 0s 434us/step - loss: 0.9422 - accuracy: 0.6133\n",
      "Epoch 7/150\n",
      "768/768 [==============================] - 0s 506us/step - loss: 0.8953 - accuracy: 0.6159\n",
      "Epoch 8/150\n",
      "768/768 [==============================] - 0s 566us/step - loss: 0.8317 - accuracy: 0.62630s - loss: 0.9558 - \n",
      "Epoch 9/150\n",
      "768/768 [==============================] - 0s 509us/step - loss: 0.8314 - accuracy: 0.6354\n",
      "Epoch 10/150\n",
      "768/768 [==============================] - 0s 452us/step - loss: 0.7734 - accuracy: 0.6354\n",
      "Epoch 11/150\n",
      "768/768 [==============================] - 0s 319us/step - loss: 0.7166 - accuracy: 0.6628\n",
      "Epoch 12/150\n",
      "768/768 [==============================] - 0s 344us/step - loss: 0.7289 - accuracy: 0.6341\n",
      "Epoch 13/150\n",
      "768/768 [==============================] - 0s 600us/step - loss: 0.6935 - accuracy: 0.6562\n",
      "Epoch 14/150\n",
      "768/768 [==============================] - 0s 512us/step - loss: 0.6880 - accuracy: 0.6510\n",
      "Epoch 15/150\n",
      "768/768 [==============================] - 0s 390us/step - loss: 0.6783 - accuracy: 0.6602\n",
      "Epoch 16/150\n",
      "768/768 [==============================] - 0s 413us/step - loss: 0.7008 - accuracy: 0.6393\n",
      "Epoch 17/150\n",
      "768/768 [==============================] - 0s 460us/step - loss: 0.6796 - accuracy: 0.6589\n",
      "Epoch 18/150\n",
      "768/768 [==============================] - 0s 383us/step - loss: 0.6628 - accuracy: 0.6719\n",
      "Epoch 19/150\n",
      "768/768 [==============================] - 0s 438us/step - loss: 0.6489 - accuracy: 0.6745\n",
      "Epoch 20/150\n",
      "768/768 [==============================] - 0s 396us/step - loss: 0.6403 - accuracy: 0.6836\n",
      "Epoch 21/150\n",
      "768/768 [==============================] - 0s 315us/step - loss: 0.6261 - accuracy: 0.6771\n",
      "Epoch 22/150\n",
      "768/768 [==============================] - 0s 261us/step - loss: 0.6315 - accuracy: 0.6693\n",
      "Epoch 23/150\n",
      "768/768 [==============================] - 0s 270us/step - loss: 0.6345 - accuracy: 0.6641\n",
      "Epoch 24/150\n",
      "768/768 [==============================] - 0s 274us/step - loss: 0.6709 - accuracy: 0.6589\n",
      "Epoch 25/150\n",
      "768/768 [==============================] - 0s 261us/step - loss: 0.6239 - accuracy: 0.6745\n",
      "Epoch 26/150\n",
      "768/768 [==============================] - 0s 307us/step - loss: 0.6186 - accuracy: 0.6771\n",
      "Epoch 27/150\n",
      "768/768 [==============================] - 0s 302us/step - loss: 0.6078 - accuracy: 0.6914\n",
      "Epoch 28/150\n",
      "768/768 [==============================] - 0s 276us/step - loss: 0.6256 - accuracy: 0.6758\n",
      "Epoch 29/150\n",
      "768/768 [==============================] - 0s 266us/step - loss: 0.5982 - accuracy: 0.6797\n",
      "Epoch 30/150\n",
      "768/768 [==============================] - 0s 265us/step - loss: 0.6206 - accuracy: 0.6667\n",
      "Epoch 31/150\n",
      "768/768 [==============================] - 0s 262us/step - loss: 0.6172 - accuracy: 0.6953\n",
      "Epoch 32/150\n",
      "768/768 [==============================] - 0s 268us/step - loss: 0.5935 - accuracy: 0.6979\n",
      "Epoch 33/150\n",
      "768/768 [==============================] - 0s 259us/step - loss: 0.5968 - accuracy: 0.6888\n",
      "Epoch 34/150\n",
      "768/768 [==============================] - 0s 256us/step - loss: 0.6491 - accuracy: 0.6641\n",
      "Epoch 35/150\n",
      "768/768 [==============================] - 0s 267us/step - loss: 0.5843 - accuracy: 0.7057\n",
      "Epoch 36/150\n",
      "768/768 [==============================] - 0s 282us/step - loss: 0.5836 - accuracy: 0.7122\n",
      "Epoch 37/150\n",
      "768/768 [==============================] - 0s 260us/step - loss: 0.6063 - accuracy: 0.7018\n",
      "Epoch 38/150\n",
      "768/768 [==============================] - 0s 261us/step - loss: 0.6037 - accuracy: 0.6953\n",
      "Epoch 39/150\n",
      "768/768 [==============================] - 0s 260us/step - loss: 0.5811 - accuracy: 0.7083\n",
      "Epoch 40/150\n",
      "768/768 [==============================] - 0s 260us/step - loss: 0.5815 - accuracy: 0.7005\n",
      "Epoch 41/150\n",
      "768/768 [==============================] - 0s 275us/step - loss: 0.5885 - accuracy: 0.7161\n",
      "Epoch 42/150\n",
      "768/768 [==============================] - 0s 263us/step - loss: 0.5998 - accuracy: 0.6953\n",
      "Epoch 43/150\n",
      "768/768 [==============================] - 0s 261us/step - loss: 0.5787 - accuracy: 0.7201\n",
      "Epoch 44/150\n",
      "768/768 [==============================] - 0s 266us/step - loss: 0.5621 - accuracy: 0.7148\n",
      "Epoch 45/150\n",
      "768/768 [==============================] - 0s 265us/step - loss: 0.5820 - accuracy: 0.7201\n",
      "Epoch 46/150\n",
      "768/768 [==============================] - 0s 279us/step - loss: 0.5781 - accuracy: 0.7148\n",
      "Epoch 47/150\n",
      "768/768 [==============================] - 0s 302us/step - loss: 0.5735 - accuracy: 0.7070\n",
      "Epoch 48/150\n",
      "768/768 [==============================] - 0s 296us/step - loss: 0.5721 - accuracy: 0.7031\n",
      "Epoch 49/150\n",
      "768/768 [==============================] - 0s 300us/step - loss: 0.5629 - accuracy: 0.7148\n",
      "Epoch 50/150\n",
      "768/768 [==============================] - 0s 297us/step - loss: 0.5746 - accuracy: 0.7135\n",
      "Epoch 51/150\n",
      "768/768 [==============================] - 0s 315us/step - loss: 0.5543 - accuracy: 0.7214\n",
      "Epoch 52/150\n",
      "768/768 [==============================] - 0s 284us/step - loss: 0.5532 - accuracy: 0.7344\n",
      "Epoch 53/150\n",
      "768/768 [==============================] - 0s 275us/step - loss: 0.5659 - accuracy: 0.7109\n",
      "Epoch 54/150\n",
      "768/768 [==============================] - 0s 263us/step - loss: 0.5603 - accuracy: 0.7018\n",
      "Epoch 55/150\n",
      "768/768 [==============================] - 0s 274us/step - loss: 0.5646 - accuracy: 0.7201\n",
      "Epoch 56/150\n",
      "768/768 [==============================] - 0s 260us/step - loss: 0.5551 - accuracy: 0.7279\n",
      "Epoch 57/150\n",
      "768/768 [==============================] - 0s 274us/step - loss: 0.5475 - accuracy: 0.7266\n",
      "Epoch 58/150\n",
      "768/768 [==============================] - 0s 276us/step - loss: 0.5611 - accuracy: 0.7174\n",
      "Epoch 59/150\n",
      "768/768 [==============================] - 0s 274us/step - loss: 0.5380 - accuracy: 0.7383\n",
      "Epoch 60/150\n",
      "768/768 [==============================] - 0s 277us/step - loss: 0.5476 - accuracy: 0.7318\n",
      "Epoch 61/150\n",
      "768/768 [==============================] - 0s 282us/step - loss: 0.5458 - accuracy: 0.7318\n",
      "Epoch 62/150\n",
      "768/768 [==============================] - 0s 278us/step - loss: 0.5703 - accuracy: 0.7201\n",
      "Epoch 63/150\n",
      "768/768 [==============================] - 0s 278us/step - loss: 0.5533 - accuracy: 0.7240\n",
      "Epoch 64/150\n",
      "768/768 [==============================] - 0s 278us/step - loss: 0.5348 - accuracy: 0.7370\n",
      "Epoch 65/150\n",
      "768/768 [==============================] - 0s 286us/step - loss: 0.5421 - accuracy: 0.7266\n",
      "Epoch 66/150\n",
      "768/768 [==============================] - 0s 289us/step - loss: 0.5409 - accuracy: 0.7292\n",
      "Epoch 67/150\n",
      "768/768 [==============================] - 0s 263us/step - loss: 0.5328 - accuracy: 0.7435\n",
      "Epoch 68/150\n",
      "768/768 [==============================] - 0s 270us/step - loss: 0.5454 - accuracy: 0.7344\n",
      "Epoch 69/150\n",
      "768/768 [==============================] - 0s 267us/step - loss: 0.5465 - accuracy: 0.7396\n",
      "Epoch 70/150\n",
      "768/768 [==============================] - 0s 272us/step - loss: 0.5711 - accuracy: 0.7344\n",
      "Epoch 71/150\n",
      "768/768 [==============================] - 0s 267us/step - loss: 0.5559 - accuracy: 0.7305\n",
      "Epoch 72/150\n",
      "768/768 [==============================] - 0s 266us/step - loss: 0.5532 - accuracy: 0.7174\n",
      "Epoch 73/150\n",
      "768/768 [==============================] - 0s 270us/step - loss: 0.5454 - accuracy: 0.7383\n",
      "Epoch 74/150\n",
      "768/768 [==============================] - 0s 267us/step - loss: 0.5437 - accuracy: 0.7253\n",
      "Epoch 75/150\n",
      "768/768 [==============================] - 0s 297us/step - loss: 0.5215 - accuracy: 0.7552\n",
      "Epoch 76/150\n",
      "768/768 [==============================] - 0s 272us/step - loss: 0.5334 - accuracy: 0.7266\n",
      "Epoch 77/150\n",
      "768/768 [==============================] - 0s 270us/step - loss: 0.5372 - accuracy: 0.7357\n",
      "Epoch 78/150\n",
      "768/768 [==============================] - 0s 273us/step - loss: 0.5219 - accuracy: 0.7435\n",
      "Epoch 79/150\n"
     ]
    },
    {
     "name": "stdout",
     "output_type": "stream",
     "text": [
      "768/768 [==============================] - 0s 270us/step - loss: 0.5446 - accuracy: 0.7122\n",
      "Epoch 80/150\n",
      "768/768 [==============================] - 0s 390us/step - loss: 0.5293 - accuracy: 0.7357\n",
      "Epoch 81/150\n",
      "768/768 [==============================] - 0s 473us/step - loss: 0.5272 - accuracy: 0.7279\n",
      "Epoch 82/150\n",
      "768/768 [==============================] - 0s 458us/step - loss: 0.5234 - accuracy: 0.7357\n",
      "Epoch 83/150\n",
      "768/768 [==============================] - 0s 446us/step - loss: 0.5460 - accuracy: 0.7279\n",
      "Epoch 84/150\n",
      "768/768 [==============================] - 0s 453us/step - loss: 0.5279 - accuracy: 0.7344\n",
      "Epoch 85/150\n",
      "768/768 [==============================] - 0s 441us/step - loss: 0.5227 - accuracy: 0.7357\n",
      "Epoch 86/150\n",
      "768/768 [==============================] - 0s 449us/step - loss: 0.5626 - accuracy: 0.7292\n",
      "Epoch 87/150\n",
      "768/768 [==============================] - 0s 317us/step - loss: 0.5509 - accuracy: 0.7513\n",
      "Epoch 88/150\n",
      "768/768 [==============================] - 0s 284us/step - loss: 0.5452 - accuracy: 0.7318\n",
      "Epoch 89/150\n",
      "768/768 [==============================] - 0s 298us/step - loss: 0.5203 - accuracy: 0.7318\n",
      "Epoch 90/150\n",
      "768/768 [==============================] - 0s 280us/step - loss: 0.5358 - accuracy: 0.7305\n",
      "Epoch 91/150\n",
      "768/768 [==============================] - 0s 262us/step - loss: 0.5618 - accuracy: 0.7344\n",
      "Epoch 92/150\n",
      "768/768 [==============================] - 0s 290us/step - loss: 0.5358 - accuracy: 0.7344\n",
      "Epoch 93/150\n",
      "768/768 [==============================] - 0s 280us/step - loss: 0.5259 - accuracy: 0.7435\n",
      "Epoch 94/150\n",
      "768/768 [==============================] - 0s 281us/step - loss: 0.5410 - accuracy: 0.7214\n",
      "Epoch 95/150\n",
      "768/768 [==============================] - 0s 298us/step - loss: 0.5296 - accuracy: 0.7474\n",
      "Epoch 96/150\n",
      "768/768 [==============================] - 0s 294us/step - loss: 0.5241 - accuracy: 0.7370\n",
      "Epoch 97/150\n",
      "768/768 [==============================] - 0s 290us/step - loss: 0.5174 - accuracy: 0.7370\n",
      "Epoch 98/150\n",
      "768/768 [==============================] - 0s 291us/step - loss: 0.5076 - accuracy: 0.7591\n",
      "Epoch 99/150\n",
      "768/768 [==============================] - 0s 297us/step - loss: 0.5294 - accuracy: 0.7422\n",
      "Epoch 100/150\n",
      "768/768 [==============================] - 0s 275us/step - loss: 0.5543 - accuracy: 0.7201\n",
      "Epoch 101/150\n",
      "768/768 [==============================] - 0s 272us/step - loss: 0.5072 - accuracy: 0.7578\n",
      "Epoch 102/150\n",
      "768/768 [==============================] - 0s 265us/step - loss: 0.5069 - accuracy: 0.7435\n",
      "Epoch 103/150\n",
      "768/768 [==============================] - 0s 264us/step - loss: 0.5202 - accuracy: 0.7305\n",
      "Epoch 104/150\n",
      "768/768 [==============================] - 0s 272us/step - loss: 0.5078 - accuracy: 0.7461\n",
      "Epoch 105/150\n",
      "768/768 [==============================] - 0s 274us/step - loss: 0.5172 - accuracy: 0.7461\n",
      "Epoch 106/150\n",
      "768/768 [==============================] - 0s 266us/step - loss: 0.5004 - accuracy: 0.7578\n",
      "Epoch 107/150\n",
      "768/768 [==============================] - 0s 288us/step - loss: 0.5165 - accuracy: 0.7487\n",
      "Epoch 108/150\n",
      "768/768 [==============================] - 0s 296us/step - loss: 0.5120 - accuracy: 0.7487\n",
      "Epoch 109/150\n",
      "768/768 [==============================] - 0s 282us/step - loss: 0.5333 - accuracy: 0.7253\n",
      "Epoch 110/150\n",
      "768/768 [==============================] - 0s 282us/step - loss: 0.5129 - accuracy: 0.7578\n",
      "Epoch 111/150\n",
      "768/768 [==============================] - 0s 277us/step - loss: 0.5259 - accuracy: 0.7409\n",
      "Epoch 112/150\n",
      "768/768 [==============================] - 0s 303us/step - loss: 0.5212 - accuracy: 0.7591\n",
      "Epoch 113/150\n",
      "768/768 [==============================] - 0s 284us/step - loss: 0.5204 - accuracy: 0.7422\n",
      "Epoch 114/150\n",
      "768/768 [==============================] - 0s 288us/step - loss: 0.5204 - accuracy: 0.7383\n",
      "Epoch 115/150\n",
      "768/768 [==============================] - 0s 273us/step - loss: 0.5127 - accuracy: 0.7539\n",
      "Epoch 116/150\n",
      "768/768 [==============================] - 0s 260us/step - loss: 0.5130 - accuracy: 0.7552\n",
      "Epoch 117/150\n",
      "768/768 [==============================] - 0s 274us/step - loss: 0.5146 - accuracy: 0.7500\n",
      "Epoch 118/150\n",
      "768/768 [==============================] - 0s 300us/step - loss: 0.4980 - accuracy: 0.7604\n",
      "Epoch 119/150\n",
      "768/768 [==============================] - 0s 295us/step - loss: 0.5148 - accuracy: 0.7552\n",
      "Epoch 120/150\n",
      "768/768 [==============================] - 0s 282us/step - loss: 0.5169 - accuracy: 0.7422\n",
      "Epoch 121/150\n",
      "768/768 [==============================] - 0s 262us/step - loss: 0.5114 - accuracy: 0.7500\n",
      "Epoch 122/150\n",
      "768/768 [==============================] - 0s 259us/step - loss: 0.5056 - accuracy: 0.7487\n",
      "Epoch 123/150\n",
      "768/768 [==============================] - 0s 266us/step - loss: 0.5090 - accuracy: 0.7630\n",
      "Epoch 124/150\n",
      "768/768 [==============================] - 0s 265us/step - loss: 0.4977 - accuracy: 0.7539\n",
      "Epoch 125/150\n",
      "768/768 [==============================] - 0s 282us/step - loss: 0.5184 - accuracy: 0.7422\n",
      "Epoch 126/150\n",
      "768/768 [==============================] - 0s 294us/step - loss: 0.5149 - accuracy: 0.7435\n",
      "Epoch 127/150\n",
      "768/768 [==============================] - 0s 298us/step - loss: 0.4950 - accuracy: 0.7526\n",
      "Epoch 128/150\n",
      "768/768 [==============================] - 0s 295us/step - loss: 0.5102 - accuracy: 0.7526\n",
      "Epoch 129/150\n",
      "768/768 [==============================] - 0s 297us/step - loss: 0.5128 - accuracy: 0.7461\n",
      "Epoch 130/150\n",
      "768/768 [==============================] - 0s 295us/step - loss: 0.5289 - accuracy: 0.7552\n",
      "Epoch 131/150\n",
      "768/768 [==============================] - 0s 291us/step - loss: 0.5108 - accuracy: 0.7656\n",
      "Epoch 132/150\n",
      "768/768 [==============================] - 0s 306us/step - loss: 0.5069 - accuracy: 0.7604\n",
      "Epoch 133/150\n",
      "768/768 [==============================] - 0s 280us/step - loss: 0.5119 - accuracy: 0.7474\n",
      "Epoch 134/150\n",
      "768/768 [==============================] - 0s 451us/step - loss: 0.5034 - accuracy: 0.7435\n",
      "Epoch 135/150\n",
      "768/768 [==============================] - 0s 364us/step - loss: 0.5138 - accuracy: 0.7487\n",
      "Epoch 136/150\n",
      "768/768 [==============================] - 0s 429us/step - loss: 0.5167 - accuracy: 0.7448\n",
      "Epoch 137/150\n",
      "768/768 [==============================] - 0s 484us/step - loss: 0.5150 - accuracy: 0.7565\n",
      "Epoch 138/150\n",
      "768/768 [==============================] - 0s 488us/step - loss: 0.5123 - accuracy: 0.7409\n",
      "Epoch 139/150\n",
      "768/768 [==============================] - 0s 505us/step - loss: 0.4911 - accuracy: 0.7539\n",
      "Epoch 140/150\n",
      "768/768 [==============================] - 0s 555us/step - loss: 0.5013 - accuracy: 0.7591\n",
      "Epoch 141/150\n",
      "768/768 [==============================] - 0s 503us/step - loss: 0.4870 - accuracy: 0.7565\n",
      "Epoch 142/150\n",
      "768/768 [==============================] - 0s 437us/step - loss: 0.4985 - accuracy: 0.7487\n",
      "Epoch 143/150\n",
      "768/768 [==============================] - 0s 450us/step - loss: 0.5136 - accuracy: 0.7487\n",
      "Epoch 144/150\n",
      "768/768 [==============================] - 0s 465us/step - loss: 0.5001 - accuracy: 0.7669\n",
      "Epoch 145/150\n",
      "768/768 [==============================] - 0s 462us/step - loss: 0.4897 - accuracy: 0.7721\n",
      "Epoch 146/150\n",
      "768/768 [==============================] - 0s 444us/step - loss: 0.5069 - accuracy: 0.7461\n",
      "Epoch 147/150\n",
      "768/768 [==============================] - 0s 461us/step - loss: 0.4997 - accuracy: 0.7682\n",
      "Epoch 148/150\n",
      "768/768 [==============================] - 0s 449us/step - loss: 0.4953 - accuracy: 0.7656\n",
      "Epoch 149/150\n",
      "768/768 [==============================] - 0s 470us/step - loss: 0.4932 - accuracy: 0.7487\n",
      "Epoch 150/150\n",
      "768/768 [==============================] - 0s 447us/step - loss: 0.5043 - accuracy: 0.7578\n"
     ]
    },
    {
     "data": {
      "text/plain": [
       "<keras.callbacks.callbacks.History at 0x1a9ffec1708>"
      ]
     },
     "execution_count": 7,
     "metadata": {},
     "output_type": "execute_result"
    }
   ],
   "source": [
    "model.fit(X,Y,epochs=150,batch_size=10)"
   ]
  },
  {
   "cell_type": "code",
   "execution_count": 8,
   "metadata": {},
   "outputs": [
    {
     "name": "stdout",
     "output_type": "stream",
     "text": [
      "768/768 [==============================] - 0s 199us/step\n",
      "Accuracy: 76.17\n"
     ]
    }
   ],
   "source": [
    "loss_of_model_on_dataset,accuracy= model.evaluate(X,Y)\n",
    "print('Accuracy: %.2f'%(accuracy*100))"
   ]
  },
  {
   "cell_type": "code",
   "execution_count": 9,
   "metadata": {},
   "outputs": [
    {
     "name": "stdout",
     "output_type": "stream",
     "text": [
      "0.5231597311794758\n"
     ]
    }
   ],
   "source": [
    "print(loss_of_model_on_dataset)"
   ]
  },
  {
   "cell_type": "code",
   "execution_count": 10,
   "metadata": {},
   "outputs": [],
   "source": [
    "#making predictions on train set only"
   ]
  },
  {
   "cell_type": "code",
   "execution_count": 11,
   "metadata": {},
   "outputs": [],
   "source": [
    "predictions=model.predict(X)"
   ]
  },
  {
   "cell_type": "code",
   "execution_count": 12,
   "metadata": {},
   "outputs": [],
   "source": [
    "rounded=[round(x[0]) for x in predictions]"
   ]
  },
  {
   "cell_type": "code",
   "execution_count": 13,
   "metadata": {},
   "outputs": [
    {
     "data": {
      "text/plain": [
       "[1.0, 0.0, 1.0, 0.0, 1.0, 0.0, 0.0, 1.0, 0.0, 0.0]"
      ]
     },
     "execution_count": 13,
     "metadata": {},
     "output_type": "execute_result"
    }
   ],
   "source": [
    "rounded[:10]"
   ]
  },
  {
   "cell_type": "code",
   "execution_count": 14,
   "metadata": {},
   "outputs": [],
   "source": [
    "#if you dont wanna round, call: model.predict_classes(X)"
   ]
  },
  {
   "cell_type": "code",
   "execution_count": 15,
   "metadata": {},
   "outputs": [
    {
     "name": "stdout",
     "output_type": "stream",
     "text": [
      "[6.0, 148.0, 72.0, 35.0, 0.0, 33.6, 0.627, 50.0] => 0 (expected 1)\n",
      "[1.0, 85.0, 66.0, 29.0, 0.0, 26.6, 0.351, 31.0] => 0 (expected 0)\n",
      "[8.0, 183.0, 64.0, 0.0, 0.0, 23.3, 0.672, 32.0] => 0 (expected 1)\n",
      "[1.0, 89.0, 66.0, 23.0, 94.0, 28.1, 0.167, 21.0] => 0 (expected 0)\n",
      "[0.0, 137.0, 40.0, 35.0, 168.0, 43.1, 2.288, 33.0] => 0 (expected 1)\n"
     ]
    }
   ],
   "source": [
    "for i in range(5):\n",
    "    print('%s => %d (expected %d)' % (X[i].tolist(), predictions[i], Y[i]))"
   ]
  },
  {
   "cell_type": "code",
   "execution_count": null,
   "metadata": {},
   "outputs": [],
   "source": []
  }
 ],
 "metadata": {
  "kernelspec": {
   "display_name": "Python 3",
   "language": "python",
   "name": "python3"
  },
  "language_info": {
   "codemirror_mode": {
    "name": "ipython",
    "version": 3
   },
   "file_extension": ".py",
   "mimetype": "text/x-python",
   "name": "python",
   "nbconvert_exporter": "python",
   "pygments_lexer": "ipython3",
   "version": "3.7.5"
  }
 },
 "nbformat": 4,
 "nbformat_minor": 2
}
