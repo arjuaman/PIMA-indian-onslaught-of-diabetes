{
 "cells": [
  {
   "cell_type": "code",
   "execution_count": 1,
   "metadata": {},
   "outputs": [
    {
     "name": "stderr",
     "output_type": "stream",
     "text": [
      "Using TensorFlow backend.\n"
     ]
    }
   ],
   "source": [
    "from numpy import loadtxt\n",
    "from keras.models import Sequential\n",
    "from keras.layers import Dense"
   ]
  },
  {
   "cell_type": "code",
   "execution_count": 3,
   "metadata": {},
   "outputs": [],
   "source": [
    "import pandas as pd\n",
    "import numpy as np\n",
    "from sklearn.model_selection import train_test_split"
   ]
  },
  {
   "cell_type": "code",
   "execution_count": 5,
   "metadata": {},
   "outputs": [
    {
     "data": {
      "text/html": [
       "<div>\n",
       "<style scoped>\n",
       "    .dataframe tbody tr th:only-of-type {\n",
       "        vertical-align: middle;\n",
       "    }\n",
       "\n",
       "    .dataframe tbody tr th {\n",
       "        vertical-align: top;\n",
       "    }\n",
       "\n",
       "    .dataframe thead th {\n",
       "        text-align: right;\n",
       "    }\n",
       "</style>\n",
       "<table border=\"1\" class=\"dataframe\">\n",
       "  <thead>\n",
       "    <tr style=\"text-align: right;\">\n",
       "      <th></th>\n",
       "      <th>6</th>\n",
       "      <th>148</th>\n",
       "      <th>72</th>\n",
       "      <th>35</th>\n",
       "      <th>0</th>\n",
       "      <th>33.6</th>\n",
       "      <th>0.627</th>\n",
       "      <th>50</th>\n",
       "      <th>1</th>\n",
       "    </tr>\n",
       "  </thead>\n",
       "  <tbody>\n",
       "    <tr>\n",
       "      <th>0</th>\n",
       "      <td>1</td>\n",
       "      <td>85</td>\n",
       "      <td>66</td>\n",
       "      <td>29</td>\n",
       "      <td>0</td>\n",
       "      <td>26.6</td>\n",
       "      <td>0.351</td>\n",
       "      <td>31</td>\n",
       "      <td>0</td>\n",
       "    </tr>\n",
       "    <tr>\n",
       "      <th>1</th>\n",
       "      <td>8</td>\n",
       "      <td>183</td>\n",
       "      <td>64</td>\n",
       "      <td>0</td>\n",
       "      <td>0</td>\n",
       "      <td>23.3</td>\n",
       "      <td>0.672</td>\n",
       "      <td>32</td>\n",
       "      <td>1</td>\n",
       "    </tr>\n",
       "    <tr>\n",
       "      <th>2</th>\n",
       "      <td>1</td>\n",
       "      <td>89</td>\n",
       "      <td>66</td>\n",
       "      <td>23</td>\n",
       "      <td>94</td>\n",
       "      <td>28.1</td>\n",
       "      <td>0.167</td>\n",
       "      <td>21</td>\n",
       "      <td>0</td>\n",
       "    </tr>\n",
       "    <tr>\n",
       "      <th>3</th>\n",
       "      <td>0</td>\n",
       "      <td>137</td>\n",
       "      <td>40</td>\n",
       "      <td>35</td>\n",
       "      <td>168</td>\n",
       "      <td>43.1</td>\n",
       "      <td>2.288</td>\n",
       "      <td>33</td>\n",
       "      <td>1</td>\n",
       "    </tr>\n",
       "    <tr>\n",
       "      <th>4</th>\n",
       "      <td>5</td>\n",
       "      <td>116</td>\n",
       "      <td>74</td>\n",
       "      <td>0</td>\n",
       "      <td>0</td>\n",
       "      <td>25.6</td>\n",
       "      <td>0.201</td>\n",
       "      <td>30</td>\n",
       "      <td>0</td>\n",
       "    </tr>\n",
       "  </tbody>\n",
       "</table>\n",
       "</div>"
      ],
      "text/plain": [
       "   6  148  72  35    0  33.6  0.627  50  1\n",
       "0  1   85  66  29    0  26.6  0.351  31  0\n",
       "1  8  183  64   0    0  23.3  0.672  32  1\n",
       "2  1   89  66  23   94  28.1  0.167  21  0\n",
       "3  0  137  40  35  168  43.1  2.288  33  1\n",
       "4  5  116  74   0    0  25.6  0.201  30  0"
      ]
     },
     "execution_count": 5,
     "metadata": {},
     "output_type": "execute_result"
    }
   ],
   "source": [
    "#dataset = loadtxt('pima-indians-diabetes-data.csv',delimiter=',')\n",
    "df=pd.read_csv('pima-indians-diabetes-data.csv',sep=',')\n",
    "df.head()"
   ]
  },
  {
   "cell_type": "code",
   "execution_count": 7,
   "metadata": {},
   "outputs": [
    {
     "data": {
      "text/html": [
       "<div>\n",
       "<style scoped>\n",
       "    .dataframe tbody tr th:only-of-type {\n",
       "        vertical-align: middle;\n",
       "    }\n",
       "\n",
       "    .dataframe tbody tr th {\n",
       "        vertical-align: top;\n",
       "    }\n",
       "\n",
       "    .dataframe thead th {\n",
       "        text-align: right;\n",
       "    }\n",
       "</style>\n",
       "<table border=\"1\" class=\"dataframe\">\n",
       "  <thead>\n",
       "    <tr style=\"text-align: right;\">\n",
       "      <th></th>\n",
       "      <th>times_pregnant</th>\n",
       "      <th>plasma_glucose_conc</th>\n",
       "      <th>diastolic_bp</th>\n",
       "      <th>triceps_skin_fold_thickness</th>\n",
       "      <th>insulin</th>\n",
       "      <th>bmi</th>\n",
       "      <th>diabetes_pedigree_function</th>\n",
       "      <th>age</th>\n",
       "      <th>target</th>\n",
       "    </tr>\n",
       "  </thead>\n",
       "  <tbody>\n",
       "    <tr>\n",
       "      <th>0</th>\n",
       "      <td>1</td>\n",
       "      <td>85</td>\n",
       "      <td>66</td>\n",
       "      <td>29</td>\n",
       "      <td>0</td>\n",
       "      <td>26.6</td>\n",
       "      <td>0.351</td>\n",
       "      <td>31</td>\n",
       "      <td>0</td>\n",
       "    </tr>\n",
       "    <tr>\n",
       "      <th>1</th>\n",
       "      <td>8</td>\n",
       "      <td>183</td>\n",
       "      <td>64</td>\n",
       "      <td>0</td>\n",
       "      <td>0</td>\n",
       "      <td>23.3</td>\n",
       "      <td>0.672</td>\n",
       "      <td>32</td>\n",
       "      <td>1</td>\n",
       "    </tr>\n",
       "    <tr>\n",
       "      <th>2</th>\n",
       "      <td>1</td>\n",
       "      <td>89</td>\n",
       "      <td>66</td>\n",
       "      <td>23</td>\n",
       "      <td>94</td>\n",
       "      <td>28.1</td>\n",
       "      <td>0.167</td>\n",
       "      <td>21</td>\n",
       "      <td>0</td>\n",
       "    </tr>\n",
       "    <tr>\n",
       "      <th>3</th>\n",
       "      <td>0</td>\n",
       "      <td>137</td>\n",
       "      <td>40</td>\n",
       "      <td>35</td>\n",
       "      <td>168</td>\n",
       "      <td>43.1</td>\n",
       "      <td>2.288</td>\n",
       "      <td>33</td>\n",
       "      <td>1</td>\n",
       "    </tr>\n",
       "    <tr>\n",
       "      <th>4</th>\n",
       "      <td>5</td>\n",
       "      <td>116</td>\n",
       "      <td>74</td>\n",
       "      <td>0</td>\n",
       "      <td>0</td>\n",
       "      <td>25.6</td>\n",
       "      <td>0.201</td>\n",
       "      <td>30</td>\n",
       "      <td>0</td>\n",
       "    </tr>\n",
       "  </tbody>\n",
       "</table>\n",
       "</div>"
      ],
      "text/plain": [
       "   times_pregnant  plasma_glucose_conc  diastolic_bp  \\\n",
       "0               1                   85            66   \n",
       "1               8                  183            64   \n",
       "2               1                   89            66   \n",
       "3               0                  137            40   \n",
       "4               5                  116            74   \n",
       "\n",
       "   triceps_skin_fold_thickness  insulin   bmi  diabetes_pedigree_function  \\\n",
       "0                           29        0  26.6                       0.351   \n",
       "1                            0        0  23.3                       0.672   \n",
       "2                           23       94  28.1                       0.167   \n",
       "3                           35      168  43.1                       2.288   \n",
       "4                            0        0  25.6                       0.201   \n",
       "\n",
       "   age  target  \n",
       "0   31       0  \n",
       "1   32       1  \n",
       "2   21       0  \n",
       "3   33       1  \n",
       "4   30       0  "
      ]
     },
     "execution_count": 7,
     "metadata": {},
     "output_type": "execute_result"
    }
   ],
   "source": [
    "headers=['times_pregnant','plasma_glucose_conc','diastolic_bp',\n",
    "        'triceps_skin_fold_thickness','insulin','bmi',\n",
    "        'diabetes_pedigree_function','age','target']\n",
    "df.columns=headers\n",
    "df.head()"
   ]
  },
  {
   "cell_type": "code",
   "execution_count": 8,
   "metadata": {},
   "outputs": [
    {
     "data": {
      "text/plain": [
       "times_pregnant                 0\n",
       "plasma_glucose_conc            0\n",
       "diastolic_bp                   0\n",
       "triceps_skin_fold_thickness    0\n",
       "insulin                        0\n",
       "bmi                            0\n",
       "diabetes_pedigree_function     0\n",
       "age                            0\n",
       "target                         0\n",
       "dtype: int64"
      ]
     },
     "execution_count": 8,
     "metadata": {},
     "output_type": "execute_result"
    }
   ],
   "source": [
    "df.isnull().sum()"
   ]
  },
  {
   "cell_type": "code",
   "execution_count": 9,
   "metadata": {},
   "outputs": [],
   "source": [
    "X=np.asarray(df[['times_pregnant','plasma_glucose_conc','diastolic_bp',\n",
    "        'triceps_skin_fold_thickness','insulin','bmi',\n",
    "        'diabetes_pedigree_function','age']])\n",
    "y=np.asarray(df['target'])"
   ]
  },
  {
   "cell_type": "code",
   "execution_count": 10,
   "metadata": {},
   "outputs": [
    {
     "data": {
      "text/plain": [
       "array([[-0.84372629, -1.12208597, -0.16024856,  0.53202348, -0.69355921,\n",
       "        -0.68372895, -0.36426474, -0.18894038],\n",
       "       [ 1.23423997,  1.94447577, -0.26357823, -1.28688187, -0.69355921,\n",
       "        -1.10230105,  0.60470064, -0.1037951 ],\n",
       "       [-0.84372629, -0.99692019, -0.16024856,  0.15569823,  0.12235685,\n",
       "        -0.49346891, -0.91968415, -1.0403932 ],\n",
       "       [-1.14057861,  0.50506924, -1.50353429,  0.90834872,  0.76467376,\n",
       "         1.40913155,  5.48273197, -0.01864981],\n",
       "       [ 0.343683  , -0.15205113,  0.25307013, -1.28688187, -0.69355921,\n",
       "        -0.81056898, -0.8170523 , -0.27408566]])"
      ]
     },
     "execution_count": 10,
     "metadata": {},
     "output_type": "execute_result"
    }
   ],
   "source": [
    "from sklearn import preprocessing\n",
    "X = preprocessing.StandardScaler().fit(X).transform(X)\n",
    "X[0:5]"
   ]
  },
  {
   "cell_type": "code",
   "execution_count": 11,
   "metadata": {},
   "outputs": [
    {
     "name": "stdout",
     "output_type": "stream",
     "text": [
      "Train set: (460, 8) (460,)\n",
      "Test set: (307, 8) (307,)\n"
     ]
    }
   ],
   "source": [
    "X_train, X_test, y_train, y_test = train_test_split( X, y, test_size=0.4, random_state=42)\n",
    "print ('Train set:', X_train.shape,  y_train.shape)\n",
    "print ('Test set:', X_test.shape,  y_test.shape)"
   ]
  },
  {
   "cell_type": "code",
   "execution_count": 12,
   "metadata": {},
   "outputs": [],
   "source": [
    "model=Sequential()\n",
    "model.add(Dense(12,input_dim=8,activation='relu'))\n",
    "model.add(Dense(8,activation='relu'))\n",
    "model.add(Dense(4,activation='relu'))\n",
    "model.add(Dense(1,activation='sigmoid'))"
   ]
  },
  {
   "cell_type": "code",
   "execution_count": 13,
   "metadata": {},
   "outputs": [],
   "source": [
    "model.compile(loss='binary_crossentropy',optimizer='adam',metrics=['accuracy'])"
   ]
  },
  {
   "cell_type": "code",
   "execution_count": 14,
   "metadata": {},
   "outputs": [
    {
     "name": "stdout",
     "output_type": "stream",
     "text": [
      "Epoch 1/200\n",
      "460/460 [==============================] - 2s 5ms/step - loss: 0.6968 - accuracy: 0.5065\n",
      "Epoch 2/200\n",
      "460/460 [==============================] - 0s 301us/step - loss: 0.6738 - accuracy: 0.6500\n",
      "Epoch 3/200\n",
      "460/460 [==============================] - 0s 302us/step - loss: 0.6560 - accuracy: 0.7022\n",
      "Epoch 4/200\n",
      "460/460 [==============================] - 0s 322us/step - loss: 0.6380 - accuracy: 0.7130\n",
      "Epoch 5/200\n",
      "460/460 [==============================] - 0s 305us/step - loss: 0.6197 - accuracy: 0.7152\n",
      "Epoch 6/200\n",
      "460/460 [==============================] - 0s 299us/step - loss: 0.5990 - accuracy: 0.7370\n",
      "Epoch 7/200\n",
      "460/460 [==============================] - 0s 314us/step - loss: 0.5779 - accuracy: 0.7435\n",
      "Epoch 8/200\n",
      "460/460 [==============================] - 0s 316us/step - loss: 0.5554 - accuracy: 0.7413\n",
      "Epoch 9/200\n",
      "460/460 [==============================] - 0s 439us/step - loss: 0.5335 - accuracy: 0.7413\n",
      "Epoch 10/200\n",
      "460/460 [==============================] - 0s 288us/step - loss: 0.5158 - accuracy: 0.7326\n",
      "Epoch 11/200\n",
      "460/460 [==============================] - 0s 464us/step - loss: 0.5044 - accuracy: 0.7478\n",
      "Epoch 12/200\n",
      "460/460 [==============================] - 0s 522us/step - loss: 0.4938 - accuracy: 0.7587\n",
      "Epoch 13/200\n",
      "460/460 [==============================] - 0s 682us/step - loss: 0.4849 - accuracy: 0.7565\n",
      "Epoch 14/200\n",
      "460/460 [==============================] - 0s 572us/step - loss: 0.4773 - accuracy: 0.7609\n",
      "Epoch 15/200\n",
      "460/460 [==============================] - 0s 505us/step - loss: 0.4708 - accuracy: 0.7717\n",
      "Epoch 16/200\n",
      "460/460 [==============================] - 0s 512us/step - loss: 0.4655 - accuracy: 0.7696\n",
      "Epoch 17/200\n",
      "460/460 [==============================] - 0s 511us/step - loss: 0.4608 - accuracy: 0.7761\n",
      "Epoch 18/200\n",
      "460/460 [==============================] - 0s 653us/step - loss: 0.4572 - accuracy: 0.7696\n",
      "Epoch 19/200\n",
      "460/460 [==============================] - 0s 550us/step - loss: 0.4545 - accuracy: 0.7804\n",
      "Epoch 20/200\n",
      "460/460 [==============================] - 0s 529us/step - loss: 0.4500 - accuracy: 0.7783\n",
      "Epoch 21/200\n",
      "460/460 [==============================] - 0s 521us/step - loss: 0.4454 - accuracy: 0.7739\n",
      "Epoch 22/200\n",
      "460/460 [==============================] - 0s 533us/step - loss: 0.4427 - accuracy: 0.7696\n",
      "Epoch 23/200\n",
      "460/460 [==============================] - 0s 568us/step - loss: 0.4398 - accuracy: 0.7783\n",
      "Epoch 24/200\n",
      "460/460 [==============================] - 0s 557us/step - loss: 0.4377 - accuracy: 0.7739\n",
      "Epoch 25/200\n",
      "460/460 [==============================] - 0s 507us/step - loss: 0.4359 - accuracy: 0.7804\n",
      "Epoch 26/200\n",
      "460/460 [==============================] - 0s 450us/step - loss: 0.4338 - accuracy: 0.7804\n",
      "Epoch 27/200\n",
      "460/460 [==============================] - 0s 416us/step - loss: 0.4338 - accuracy: 0.7783\n",
      "Epoch 28/200\n",
      "460/460 [==============================] - 0s 375us/step - loss: 0.4303 - accuracy: 0.7826\n",
      "Epoch 29/200\n",
      "460/460 [==============================] - 0s 383us/step - loss: 0.4299 - accuracy: 0.7826\n",
      "Epoch 30/200\n",
      "460/460 [==============================] - 0s 496us/step - loss: 0.4264 - accuracy: 0.7848\n",
      "Epoch 31/200\n",
      "460/460 [==============================] - 0s 567us/step - loss: 0.4269 - accuracy: 0.7804\n",
      "Epoch 32/200\n",
      "460/460 [==============================] - 0s 457us/step - loss: 0.4222 - accuracy: 0.7826\n",
      "Epoch 33/200\n",
      "460/460 [==============================] - 0s 437us/step - loss: 0.4216 - accuracy: 0.7848\n",
      "Epoch 34/200\n",
      "460/460 [==============================] - 0s 451us/step - loss: 0.4193 - accuracy: 0.7891\n",
      "Epoch 35/200\n",
      "460/460 [==============================] - 0s 527us/step - loss: 0.4183 - accuracy: 0.7848\n",
      "Epoch 36/200\n",
      "460/460 [==============================] - 0s 568us/step - loss: 0.4151 - accuracy: 0.7913\n",
      "Epoch 37/200\n",
      "460/460 [==============================] - 0s 576us/step - loss: 0.4132 - accuracy: 0.8000\n",
      "Epoch 38/200\n",
      "460/460 [==============================] - 0s 514us/step - loss: 0.4141 - accuracy: 0.7978\n",
      "Epoch 39/200\n",
      "460/460 [==============================] - 0s 521us/step - loss: 0.4122 - accuracy: 0.7978\n",
      "Epoch 40/200\n",
      "460/460 [==============================] - 0s 576us/step - loss: 0.4108 - accuracy: 0.7978\n",
      "Epoch 41/200\n",
      "460/460 [==============================] - 0s 412us/step - loss: 0.4101 - accuracy: 0.7891\n",
      "Epoch 42/200\n",
      "460/460 [==============================] - ETA: 0s - loss: 0.4027 - accuracy: 0.80 - 0s 504us/step - loss: 0.4078 - accuracy: 0.8000\n",
      "Epoch 43/200\n",
      "460/460 [==============================] - 0s 516us/step - loss: 0.4080 - accuracy: 0.8022\n",
      "Epoch 44/200\n",
      "460/460 [==============================] - 0s 513us/step - loss: 0.4075 - accuracy: 0.7978\n",
      "Epoch 45/200\n",
      "460/460 [==============================] - 0s 502us/step - loss: 0.4051 - accuracy: 0.7978\n",
      "Epoch 46/200\n",
      "460/460 [==============================] - 0s 482us/step - loss: 0.4048 - accuracy: 0.8000\n",
      "Epoch 47/200\n",
      "460/460 [==============================] - 0s 533us/step - loss: 0.4043 - accuracy: 0.8043\n",
      "Epoch 48/200\n",
      "460/460 [==============================] - 0s 433us/step - loss: 0.4022 - accuracy: 0.8087\n",
      "Epoch 49/200\n",
      "460/460 [==============================] - 0s 499us/step - loss: 0.4020 - accuracy: 0.8022\n",
      "Epoch 50/200\n",
      "460/460 [==============================] - 0s 512us/step - loss: 0.4001 - accuracy: 0.8087\n",
      "Epoch 51/200\n",
      "460/460 [==============================] - 0s 505us/step - loss: 0.3993 - accuracy: 0.8152\n",
      "Epoch 52/200\n",
      "460/460 [==============================] - 0s 517us/step - loss: 0.4001 - accuracy: 0.8109\n",
      "Epoch 53/200\n",
      "460/460 [==============================] - 0s 401us/step - loss: 0.3977 - accuracy: 0.8109\n",
      "Epoch 54/200\n",
      "460/460 [==============================] - 0s 579us/step - loss: 0.3951 - accuracy: 0.8152\n",
      "Epoch 55/200\n",
      "460/460 [==============================] - 0s 414us/step - loss: 0.3955 - accuracy: 0.8087\n",
      "Epoch 56/200\n",
      "460/460 [==============================] - 0s 461us/step - loss: 0.3950 - accuracy: 0.8109\n",
      "Epoch 57/200\n",
      "460/460 [==============================] - 0s 448us/step - loss: 0.3938 - accuracy: 0.8152\n",
      "Epoch 58/200\n",
      "460/460 [==============================] - 0s 497us/step - loss: 0.3909 - accuracy: 0.8196\n",
      "Epoch 59/200\n",
      "460/460 [==============================] - 0s 329us/step - loss: 0.3905 - accuracy: 0.8174\n",
      "Epoch 60/200\n",
      "460/460 [==============================] - 0s 317us/step - loss: 0.3897 - accuracy: 0.8217\n",
      "Epoch 61/200\n",
      "460/460 [==============================] - 0s 347us/step - loss: 0.3904 - accuracy: 0.8174\n",
      "Epoch 62/200\n",
      "460/460 [==============================] - 0s 448us/step - loss: 0.3872 - accuracy: 0.8283\n",
      "Epoch 63/200\n",
      "460/460 [==============================] - 0s 439us/step - loss: 0.3872 - accuracy: 0.8239\n",
      "Epoch 64/200\n",
      "460/460 [==============================] - 0s 401us/step - loss: 0.3865 - accuracy: 0.8174\n",
      "Epoch 65/200\n",
      "460/460 [==============================] - 0s 420us/step - loss: 0.3846 - accuracy: 0.8239\n",
      "Epoch 66/200\n",
      "460/460 [==============================] - 0s 355us/step - loss: 0.3859 - accuracy: 0.8217\n",
      "Epoch 67/200\n",
      "460/460 [==============================] - 0s 384us/step - loss: 0.3853 - accuracy: 0.8217\n",
      "Epoch 68/200\n",
      "460/460 [==============================] - 0s 409us/step - loss: 0.3822 - accuracy: 0.8326\n",
      "Epoch 69/200\n",
      "460/460 [==============================] - 0s 505us/step - loss: 0.3813 - accuracy: 0.8304\n",
      "Epoch 70/200\n",
      "460/460 [==============================] - 0s 570us/step - loss: 0.3808 - accuracy: 0.8261\n",
      "Epoch 71/200\n",
      "460/460 [==============================] - 0s 520us/step - loss: 0.3804 - accuracy: 0.8261\n",
      "Epoch 72/200\n",
      "460/460 [==============================] - 0s 387us/step - loss: 0.3809 - accuracy: 0.8283\n",
      "Epoch 73/200\n",
      "460/460 [==============================] - 0s 502us/step - loss: 0.3781 - accuracy: 0.8326\n",
      "Epoch 74/200\n",
      "460/460 [==============================] - 0s 496us/step - loss: 0.3784 - accuracy: 0.8283\n",
      "Epoch 75/200\n",
      "460/460 [==============================] - 0s 592us/step - loss: 0.3776 - accuracy: 0.8304\n",
      "Epoch 76/200\n",
      "460/460 [==============================] - 0s 555us/step - loss: 0.3764 - accuracy: 0.8283\n",
      "Epoch 77/200\n",
      "460/460 [==============================] - 0s 523us/step - loss: 0.3758 - accuracy: 0.8304\n",
      "Epoch 78/200\n",
      "460/460 [==============================] - 0s 508us/step - loss: 0.3761 - accuracy: 0.8261\n",
      "Epoch 79/200\n"
     ]
    },
    {
     "name": "stdout",
     "output_type": "stream",
     "text": [
      "460/460 [==============================] - 0s 433us/step - loss: 0.3732 - accuracy: 0.8326\n",
      "Epoch 80/200\n",
      "460/460 [==============================] - 0s 545us/step - loss: 0.3756 - accuracy: 0.8283\n",
      "Epoch 81/200\n",
      "460/460 [==============================] - 0s 543us/step - loss: 0.3758 - accuracy: 0.8304\n",
      "Epoch 82/200\n",
      "460/460 [==============================] - 0s 490us/step - loss: 0.3724 - accuracy: 0.8283\n",
      "Epoch 83/200\n",
      "460/460 [==============================] - 0s 503us/step - loss: 0.3720 - accuracy: 0.8304\n",
      "Epoch 84/200\n",
      "460/460 [==============================] - 0s 508us/step - loss: 0.3703 - accuracy: 0.8239\n",
      "Epoch 85/200\n",
      "460/460 [==============================] - 0s 510us/step - loss: 0.3697 - accuracy: 0.8304\n",
      "Epoch 86/200\n",
      "460/460 [==============================] - 0s 448us/step - loss: 0.3677 - accuracy: 0.8326\n",
      "Epoch 87/200\n",
      "460/460 [==============================] - 0s 452us/step - loss: 0.3681 - accuracy: 0.8304\n",
      "Epoch 88/200\n",
      "460/460 [==============================] - 0s 524us/step - loss: 0.3659 - accuracy: 0.8283\n",
      "Epoch 89/200\n",
      "460/460 [==============================] - 0s 505us/step - loss: 0.3662 - accuracy: 0.8348\n",
      "Epoch 90/200\n",
      "460/460 [==============================] - 0s 451us/step - loss: 0.3649 - accuracy: 0.8348\n",
      "Epoch 91/200\n",
      "460/460 [==============================] - 0s 324us/step - loss: 0.3643 - accuracy: 0.8413\n",
      "Epoch 92/200\n",
      "460/460 [==============================] - 0s 325us/step - loss: 0.3643 - accuracy: 0.8326\n",
      "Epoch 93/200\n",
      "460/460 [==============================] - 0s 337us/step - loss: 0.3631 - accuracy: 0.8283\n",
      "Epoch 94/200\n",
      "460/460 [==============================] - 0s 321us/step - loss: 0.3618 - accuracy: 0.8326\n",
      "Epoch 95/200\n",
      "460/460 [==============================] - 0s 305us/step - loss: 0.3613 - accuracy: 0.8391\n",
      "Epoch 96/200\n",
      "460/460 [==============================] - 0s 299us/step - loss: 0.3610 - accuracy: 0.8304\n",
      "Epoch 97/200\n",
      "460/460 [==============================] - 0s 322us/step - loss: 0.3585 - accuracy: 0.8370\n",
      "Epoch 98/200\n",
      "460/460 [==============================] - 0s 318us/step - loss: 0.3569 - accuracy: 0.8435\n",
      "Epoch 99/200\n",
      "460/460 [==============================] - 0s 316us/step - loss: 0.3591 - accuracy: 0.8348\n",
      "Epoch 100/200\n",
      "460/460 [==============================] - 0s 332us/step - loss: 0.3554 - accuracy: 0.8413\n",
      "Epoch 101/200\n",
      "460/460 [==============================] - 0s 323us/step - loss: 0.3554 - accuracy: 0.8326\n",
      "Epoch 102/200\n",
      "460/460 [==============================] - 0s 299us/step - loss: 0.3544 - accuracy: 0.8413\n",
      "Epoch 103/200\n",
      "460/460 [==============================] - 0s 349us/step - loss: 0.3534 - accuracy: 0.8370\n",
      "Epoch 104/200\n",
      "460/460 [==============================] - 0s 338us/step - loss: 0.3531 - accuracy: 0.8435\n",
      "Epoch 105/200\n",
      "460/460 [==============================] - 0s 340us/step - loss: 0.3535 - accuracy: 0.8370\n",
      "Epoch 106/200\n",
      "460/460 [==============================] - 0s 389us/step - loss: 0.3504 - accuracy: 0.8457\n",
      "Epoch 107/200\n",
      "460/460 [==============================] - 0s 364us/step - loss: 0.3498 - accuracy: 0.8391\n",
      "Epoch 108/200\n",
      "460/460 [==============================] - 0s 332us/step - loss: 0.3492 - accuracy: 0.8348\n",
      "Epoch 109/200\n",
      "460/460 [==============================] - 0s 356us/step - loss: 0.3475 - accuracy: 0.8435\n",
      "Epoch 110/200\n",
      "460/460 [==============================] - 0s 530us/step - loss: 0.3469 - accuracy: 0.8522\n",
      "Epoch 111/200\n",
      "460/460 [==============================] - 0s 543us/step - loss: 0.3460 - accuracy: 0.8500\n",
      "Epoch 112/200\n",
      "460/460 [==============================] - 0s 389us/step - loss: 0.3458 - accuracy: 0.8500\n",
      "Epoch 113/200\n",
      "460/460 [==============================] - 0s 379us/step - loss: 0.3447 - accuracy: 0.8478\n",
      "Epoch 114/200\n",
      "460/460 [==============================] - 0s 364us/step - loss: 0.3427 - accuracy: 0.84780s - loss: 0.3299 - accuracy: 0.\n",
      "Epoch 115/200\n",
      "460/460 [==============================] - 0s 530us/step - loss: 0.3432 - accuracy: 0.8543\n",
      "Epoch 116/200\n",
      "460/460 [==============================] - 0s 496us/step - loss: 0.3414 - accuracy: 0.8435\n",
      "Epoch 117/200\n",
      "460/460 [==============================] - 0s 401us/step - loss: 0.3407 - accuracy: 0.8522\n",
      "Epoch 118/200\n",
      "460/460 [==============================] - 0s 371us/step - loss: 0.3390 - accuracy: 0.8478\n",
      "Epoch 119/200\n",
      "460/460 [==============================] - 0s 341us/step - loss: 0.3386 - accuracy: 0.8565\n",
      "Epoch 120/200\n",
      "460/460 [==============================] - 0s 506us/step - loss: 0.3403 - accuracy: 0.8500\n",
      "Epoch 121/200\n",
      "460/460 [==============================] - 0s 518us/step - loss: 0.3356 - accuracy: 0.8587\n",
      "Epoch 122/200\n",
      "460/460 [==============================] - 0s 389us/step - loss: 0.3361 - accuracy: 0.8522\n",
      "Epoch 123/200\n",
      "460/460 [==============================] - 0s 537us/step - loss: 0.3346 - accuracy: 0.8630\n",
      "Epoch 124/200\n",
      "460/460 [==============================] - 0s 504us/step - loss: 0.3330 - accuracy: 0.8630\n",
      "Epoch 125/200\n",
      "460/460 [==============================] - 0s 520us/step - loss: 0.3333 - accuracy: 0.8500\n",
      "Epoch 126/200\n",
      "460/460 [==============================] - 0s 554us/step - loss: 0.3317 - accuracy: 0.8630\n",
      "Epoch 127/200\n",
      "460/460 [==============================] - 0s 496us/step - loss: 0.3311 - accuracy: 0.8696\n",
      "Epoch 128/200\n",
      "460/460 [==============================] - 0s 531us/step - loss: 0.3299 - accuracy: 0.8717\n",
      "Epoch 129/200\n",
      "460/460 [==============================] - 0s 519us/step - loss: 0.3315 - accuracy: 0.8674\n",
      "Epoch 130/200\n",
      "460/460 [==============================] - 0s 435us/step - loss: 0.3287 - accuracy: 0.8630\n",
      "Epoch 131/200\n",
      "460/460 [==============================] - 0s 341us/step - loss: 0.3278 - accuracy: 0.8609\n",
      "Epoch 132/200\n",
      "460/460 [==============================] - 0s 324us/step - loss: 0.3266 - accuracy: 0.8717\n",
      "Epoch 133/200\n",
      "460/460 [==============================] - 0s 310us/step - loss: 0.3252 - accuracy: 0.8739\n",
      "Epoch 134/200\n",
      "460/460 [==============================] - 0s 303us/step - loss: 0.3260 - accuracy: 0.8674\n",
      "Epoch 135/200\n",
      "460/460 [==============================] - 0s 357us/step - loss: 0.3248 - accuracy: 0.8630\n",
      "Epoch 136/200\n",
      "460/460 [==============================] - 0s 345us/step - loss: 0.3236 - accuracy: 0.8674\n",
      "Epoch 137/200\n",
      "460/460 [==============================] - 0s 341us/step - loss: 0.3250 - accuracy: 0.8609\n",
      "Epoch 138/200\n",
      "460/460 [==============================] - 0s 321us/step - loss: 0.3208 - accuracy: 0.8739\n",
      "Epoch 139/200\n",
      "460/460 [==============================] - 0s 319us/step - loss: 0.3205 - accuracy: 0.8674\n",
      "Epoch 140/200\n",
      "460/460 [==============================] - 0s 324us/step - loss: 0.3201 - accuracy: 0.8652\n",
      "Epoch 141/200\n",
      "460/460 [==============================] - 0s 345us/step - loss: 0.3199 - accuracy: 0.8674\n",
      "Epoch 142/200\n",
      "460/460 [==============================] - 0s 328us/step - loss: 0.3177 - accuracy: 0.8717\n",
      "Epoch 143/200\n",
      "460/460 [==============================] - 0s 328us/step - loss: 0.3166 - accuracy: 0.8587\n",
      "Epoch 144/200\n",
      "460/460 [==============================] - 0s 297us/step - loss: 0.3170 - accuracy: 0.8696\n",
      "Epoch 145/200\n",
      "460/460 [==============================] - 0s 312us/step - loss: 0.3157 - accuracy: 0.8696\n",
      "Epoch 146/200\n",
      "460/460 [==============================] - 0s 310us/step - loss: 0.3143 - accuracy: 0.8761\n",
      "Epoch 147/200\n",
      "460/460 [==============================] - 0s 296us/step - loss: 0.3124 - accuracy: 0.8674\n",
      "Epoch 148/200\n",
      "460/460 [==============================] - 0s 324us/step - loss: 0.3132 - accuracy: 0.8696\n",
      "Epoch 149/200\n",
      "460/460 [==============================] - 0s 312us/step - loss: 0.3115 - accuracy: 0.8717\n",
      "Epoch 150/200\n",
      "460/460 [==============================] - 0s 315us/step - loss: 0.3105 - accuracy: 0.8717\n",
      "Epoch 151/200\n",
      "460/460 [==============================] - 0s 310us/step - loss: 0.3089 - accuracy: 0.8739\n",
      "Epoch 152/200\n",
      "460/460 [==============================] - 0s 311us/step - loss: 0.3096 - accuracy: 0.8696\n",
      "Epoch 153/200\n",
      "460/460 [==============================] - 0s 314us/step - loss: 0.3084 - accuracy: 0.8717\n",
      "Epoch 154/200\n",
      "460/460 [==============================] - 0s 314us/step - loss: 0.3082 - accuracy: 0.8696\n",
      "Epoch 155/200\n",
      "460/460 [==============================] - 0s 306us/step - loss: 0.3056 - accuracy: 0.8717\n",
      "Epoch 156/200\n",
      "460/460 [==============================] - 0s 331us/step - loss: 0.3050 - accuracy: 0.8696\n",
      "Epoch 157/200\n"
     ]
    },
    {
     "name": "stdout",
     "output_type": "stream",
     "text": [
      "460/460 [==============================] - 0s 324us/step - loss: 0.3030 - accuracy: 0.8739\n",
      "Epoch 158/200\n",
      "460/460 [==============================] - 0s 299us/step - loss: 0.3052 - accuracy: 0.8696\n",
      "Epoch 159/200\n",
      "460/460 [==============================] - 0s 292us/step - loss: 0.3021 - accuracy: 0.8761\n",
      "Epoch 160/200\n",
      "460/460 [==============================] - 0s 302us/step - loss: 0.3004 - accuracy: 0.8674\n",
      "Epoch 161/200\n",
      "460/460 [==============================] - 0s 343us/step - loss: 0.3030 - accuracy: 0.8717\n",
      "Epoch 162/200\n",
      "460/460 [==============================] - 0s 371us/step - loss: 0.2991 - accuracy: 0.8739\n",
      "Epoch 163/200\n",
      "460/460 [==============================] - 0s 412us/step - loss: 0.2988 - accuracy: 0.8739\n",
      "Epoch 164/200\n",
      "460/460 [==============================] - 0s 453us/step - loss: 0.2964 - accuracy: 0.8739\n",
      "Epoch 165/200\n",
      "460/460 [==============================] - 0s 506us/step - loss: 0.2955 - accuracy: 0.8761\n",
      "Epoch 166/200\n",
      "460/460 [==============================] - 0s 505us/step - loss: 0.2943 - accuracy: 0.8739\n",
      "Epoch 167/200\n",
      "460/460 [==============================] - 0s 545us/step - loss: 0.2940 - accuracy: 0.8804\n",
      "Epoch 168/200\n",
      "460/460 [==============================] - 0s 508us/step - loss: 0.2933 - accuracy: 0.8696\n",
      "Epoch 169/200\n",
      "460/460 [==============================] - 0s 501us/step - loss: 0.2911 - accuracy: 0.8783\n",
      "Epoch 170/200\n",
      "460/460 [==============================] - ETA: 0s - loss: 0.3003 - accuracy: 0.87 - 0s 501us/step - loss: 0.2883 - accuracy: 0.8804\n",
      "Epoch 171/200\n",
      "460/460 [==============================] - 0s 521us/step - loss: 0.2880 - accuracy: 0.8761\n",
      "Epoch 172/200\n",
      "460/460 [==============================] - 0s 489us/step - loss: 0.2868 - accuracy: 0.8761\n",
      "Epoch 173/200\n",
      "460/460 [==============================] - 0s 521us/step - loss: 0.2853 - accuracy: 0.8783\n",
      "Epoch 174/200\n",
      "460/460 [==============================] - 0s 507us/step - loss: 0.2845 - accuracy: 0.8783\n",
      "Epoch 175/200\n",
      "460/460 [==============================] - 0s 517us/step - loss: 0.2859 - accuracy: 0.8761\n",
      "Epoch 176/200\n",
      "460/460 [==============================] - 0s 514us/step - loss: 0.2834 - accuracy: 0.8717\n",
      "Epoch 177/200\n",
      "460/460 [==============================] - 0s 601us/step - loss: 0.2845 - accuracy: 0.8826\n",
      "Epoch 178/200\n",
      "460/460 [==============================] - 0s 631us/step - loss: 0.2799 - accuracy: 0.8848\n",
      "Epoch 179/200\n",
      "460/460 [==============================] - 0s 604us/step - loss: 0.2783 - accuracy: 0.8761\n",
      "Epoch 180/200\n",
      "460/460 [==============================] - 0s 474us/step - loss: 0.2797 - accuracy: 0.8826\n",
      "Epoch 181/200\n",
      "460/460 [==============================] - 0s 526us/step - loss: 0.2787 - accuracy: 0.8870\n",
      "Epoch 182/200\n",
      "460/460 [==============================] - 0s 550us/step - loss: 0.2762 - accuracy: 0.8826\n",
      "Epoch 183/200\n",
      "460/460 [==============================] - 0s 536us/step - loss: 0.2750 - accuracy: 0.8848\n",
      "Epoch 184/200\n",
      "460/460 [==============================] - 0s 454us/step - loss: 0.2738 - accuracy: 0.8826\n",
      "Epoch 185/200\n",
      "460/460 [==============================] - 0s 559us/step - loss: 0.2714 - accuracy: 0.8978\n",
      "Epoch 186/200\n",
      "460/460 [==============================] - 0s 491us/step - loss: 0.2696 - accuracy: 0.8804\n",
      "Epoch 187/200\n",
      "460/460 [==============================] - 0s 539us/step - loss: 0.2706 - accuracy: 0.8848\n",
      "Epoch 188/200\n",
      "460/460 [==============================] - 0s 446us/step - loss: 0.2688 - accuracy: 0.8848\n",
      "Epoch 189/200\n",
      "460/460 [==============================] - 0s 532us/step - loss: 0.2661 - accuracy: 0.8935\n",
      "Epoch 190/200\n",
      "460/460 [==============================] - 0s 568us/step - loss: 0.2644 - accuracy: 0.8913\n",
      "Epoch 191/200\n",
      "460/460 [==============================] - 0s 462us/step - loss: 0.2648 - accuracy: 0.8848\n",
      "Epoch 192/200\n",
      "460/460 [==============================] - 0s 543us/step - loss: 0.2626 - accuracy: 0.8891\n",
      "Epoch 193/200\n",
      "460/460 [==============================] - 0s 516us/step - loss: 0.2647 - accuracy: 0.8891\n",
      "Epoch 194/200\n",
      "460/460 [==============================] - 0s 447us/step - loss: 0.2620 - accuracy: 0.8913\n",
      "Epoch 195/200\n",
      "460/460 [==============================] - 0s 414us/step - loss: 0.2599 - accuracy: 0.8913\n",
      "Epoch 196/200\n",
      "460/460 [==============================] - 0s 408us/step - loss: 0.2592 - accuracy: 0.8870\n",
      "Epoch 197/200\n",
      "460/460 [==============================] - 0s 395us/step - loss: 0.2590 - accuracy: 0.8804\n",
      "Epoch 198/200\n",
      "460/460 [==============================] - 0s 395us/step - loss: 0.2603 - accuracy: 0.8891\n",
      "Epoch 199/200\n",
      "460/460 [==============================] - 0s 404us/step - loss: 0.2571 - accuracy: 0.8870\n",
      "Epoch 200/200\n",
      "460/460 [==============================] - 0s 397us/step - loss: 0.2555 - accuracy: 0.8870\n"
     ]
    },
    {
     "data": {
      "text/plain": [
       "<keras.callbacks.callbacks.History at 0x19579790948>"
      ]
     },
     "execution_count": 14,
     "metadata": {},
     "output_type": "execute_result"
    }
   ],
   "source": [
    "model.fit(X_train,y_train,epochs=200,batch_size=10)"
   ]
  },
  {
   "cell_type": "code",
   "execution_count": 16,
   "metadata": {},
   "outputs": [
    {
     "name": "stdout",
     "output_type": "stream",
     "text": [
      "460/460 [==============================] - 0s 315us/step\n",
      "Accuracy: 90.00\n"
     ]
    }
   ],
   "source": [
    "loss_of_model_on_dataset,accuracy= model.evaluate(X_train,y_train)\n",
    "print('Accuracy: %.2f'%(accuracy*100))"
   ]
  },
  {
   "cell_type": "code",
   "execution_count": 17,
   "metadata": {},
   "outputs": [
    {
     "name": "stdout",
     "output_type": "stream",
     "text": [
      "0.24759625015051467\n"
     ]
    }
   ],
   "source": [
    "print(loss_of_model_on_dataset)"
   ]
  },
  {
   "cell_type": "code",
   "execution_count": 19,
   "metadata": {},
   "outputs": [
    {
     "data": {
      "text/plain": [
       "array([[0],\n",
       "       [0],\n",
       "       [0],\n",
       "       [1],\n",
       "       [0]])"
      ]
     },
     "execution_count": 19,
     "metadata": {},
     "output_type": "execute_result"
    }
   ],
   "source": [
    "predictions=model.predict_classes(X_test)\n",
    "predictions[:5]"
   ]
  },
  {
   "cell_type": "code",
   "execution_count": 20,
   "metadata": {},
   "outputs": [],
   "source": [
    "#EVALUATION"
   ]
  },
  {
   "cell_type": "code",
   "execution_count": 21,
   "metadata": {},
   "outputs": [
    {
     "name": "stderr",
     "output_type": "stream",
     "text": [
      "D:\\Softwares\\Anaconda_numpy\\lib\\site-packages\\sklearn\\metrics\\classification.py:635: DeprecationWarning: jaccard_similarity_score has been deprecated and replaced with jaccard_score. It will be removed in version 0.23. This implementation has surprising behavior for binary and multiclass classification tasks.\n",
      "  'and multiclass classification tasks.', DeprecationWarning)\n"
     ]
    },
    {
     "data": {
      "text/plain": [
       "0.7915309446254072"
      ]
     },
     "execution_count": 21,
     "metadata": {},
     "output_type": "execute_result"
    }
   ],
   "source": [
    "from sklearn.metrics import jaccard_similarity_score\n",
    "jaccard_similarity_score(y_test,predictions)"
   ]
  },
  {
   "cell_type": "code",
   "execution_count": 23,
   "metadata": {},
   "outputs": [
    {
     "name": "stdout",
     "output_type": "stream",
     "text": [
      "[[ 73  32]\n",
      " [ 32 170]]\n"
     ]
    }
   ],
   "source": [
    "from sklearn.metrics import classification_report, confusion_matrix\n",
    "import itertools\n",
    "import matplotlib as mpl\n",
    "import matplotlib.pyplot as plt\n",
    "def plot_confusion_matrix(cm, classes,\n",
    "                          normalize=False,\n",
    "                          title='Confusion matrix',\n",
    "                          cmap=plt.cm.Blues):\n",
    "    \"\"\"\n",
    "    This function prints and plots the confusion matrix.\n",
    "    Normalization can be applied by setting `normalize=True`.\n",
    "    \"\"\"\n",
    "    if normalize:\n",
    "        cm = cm.astype('float') / cm.sum(axis=1)[:, np.newaxis]\n",
    "        print(\"Normalized confusion matrix\")\n",
    "    else:\n",
    "        print('Confusion matrix, without normalization')\n",
    "\n",
    "    print(cm)\n",
    "\n",
    "    plt.imshow(cm, interpolation='nearest', cmap=cmap)\n",
    "    plt.title(title)\n",
    "    plt.colorbar()\n",
    "    tick_marks = np.arange(len(classes))\n",
    "    plt.xticks(tick_marks, classes, rotation=45)\n",
    "    plt.yticks(tick_marks, classes)\n",
    "\n",
    "    fmt = '.2f' if normalize else 'd'\n",
    "    thresh = cm.max() / 2.\n",
    "    for i, j in itertools.product(range(cm.shape[0]), range(cm.shape[1])):\n",
    "        plt.text(j, i, format(cm[i, j], fmt),\n",
    "                 horizontalalignment=\"center\",\n",
    "                 color=\"white\" if cm[i, j] > thresh else \"black\")\n",
    "\n",
    "    plt.tight_layout()\n",
    "    plt.ylabel('True label')\n",
    "    plt.xlabel('Predicted label')\n",
    "    \n",
    "print(confusion_matrix(y_test, predictions, labels=[1,0]))"
   ]
  },
  {
   "cell_type": "code",
   "execution_count": 24,
   "metadata": {},
   "outputs": [
    {
     "name": "stdout",
     "output_type": "stream",
     "text": [
      "Confusion matrix, without normalization\n",
      "[[ 73  32]\n",
      " [ 32 170]]\n"
     ]
    },
    {
     "data": {
      "image/png": "[encoded data removed]",
      "text/plain": [
       "<Figure size 432x288 with 2 Axes>"
      ]
     },
     "metadata": {
      "needs_background": "light"
     },
     "output_type": "display_data"
    }
   ],
   "source": [
    "# Compute confusion matrix\n",
    "cnf_matrix = confusion_matrix(y_test, predictions, labels=[1,0])\n",
    "np.set_printoptions(precision=2)\n",
    "\n",
    "\n",
    "# Plot non-normalized confusion matrix\n",
    "plt.figure()\n",
    "plot_confusion_matrix(cnf_matrix, classes=['churn=1','churn=0'],normalize= False,  title='Confusion matrix')"
   ]
  },
  {
   "cell_type": "code",
   "execution_count": 25,
   "metadata": {},
   "outputs": [
    {
     "name": "stdout",
     "output_type": "stream",
     "text": [
      "              precision    recall  f1-score   support\n",
      "\n",
      "           0       0.84      0.84      0.84       202\n",
      "           1       0.70      0.70      0.70       105\n",
      "\n",
      "    accuracy                           0.79       307\n",
      "   macro avg       0.77      0.77      0.77       307\n",
      "weighted avg       0.79      0.79      0.79       307\n",
      "\n"
     ]
    }
   ],
   "source": [
    "print (classification_report(y_test, predictions))"
   ]
  },
  {
   "cell_type": "code",
   "execution_count": 26,
   "metadata": {},
   "outputs": [
    {
     "data": {
      "text/plain": [
       "0.6502232836492527"
      ]
     },
     "execution_count": 26,
     "metadata": {},
     "output_type": "execute_result"
    }
   ],
   "source": [
    "from sklearn.metrics import log_loss\n",
    "predictions_prob = model.predict_proba(X_test)\n",
    "log_loss(y_test, predictions_prob)"
   ]
  },
  {
   "cell_type": "code",
   "execution_count": 31,
   "metadata": {},
   "outputs": [
    {
     "name": "stdout",
     "output_type": "stream",
     "text": [
      "[0.6405353265637751, -0.7152971682859277, -0.573567244000577, 0.7829069725890075, 0.9556328374764441, 0.25488727331523364, -0.12579662422835297, 0.8328030107997808] => 0 (expected 0)\n",
      "[-0.8437262911837038, 1.1308981637418536, 0.1497404560673259, 0.030256484213278943, 0.7646737580915557, -0.8105689808308659, -1.0525018335396417, -0.7849573566202676] => 0 (expected 0)\n",
      "[-0.546873967634208, -0.4023827052303715, -0.2635782296857615, -1.2868818704442462, -0.6935592117566833, -0.15100082350232807, -0.9468514025106674, -1.0403932041076436] => 0 (expected 0)\n",
      "[1.2342399736627667, -0.43367415153592714, 0.5630591418204133, -1.2868818704442462, -0.6935592117566833, -0.937409011086354, 1.1601200505814484, 0.06649546833765263] => 1 (expected 0)\n",
      "[0.6405353265637751, -0.21463402739703785, -3.5701277157104605, -1.2868818704442462, -0.6935592117566833, -4.05767375537136, -0.8532753064564332, -0.6146667916286835] => 0 (expected 0)\n",
      "[0.34368300301427934, -0.3085083663137047, 0.1497404560673259, 0.469302602432454, -0.6935592117566833, -1.026197032265196, -0.1952240503331074, -0.5295215091328915] => 0 (expected 0)\n",
      "[0.6405353265637751, -0.8717543998137057, -0.9868859297536644, 0.5947443504950753, -0.1380418899097351, -0.4173648870388532, -0.34917182126104135, -0.8701026391160596] => 0 (expected 0)\n",
      "[0.34368300301427934, -0.18334258109148222, 0.3563997989438696, -1.2868818704442462, -0.6935592117566833, -0.10026481140013303, -0.3884134099289463, 0.9179482932955728] => 1 (expected 1)\n"
     ]
    }
   ],
   "source": [
    "for i in range(8):\n",
    "    print('%s => %d (expected %d)' % (X_test[i].tolist(), predictions[i], y_test[i]))"
   ]
  },
  {
   "cell_type": "code",
   "execution_count": 32,
   "metadata": {},
   "outputs": [
    {
     "data": {
      "text/plain": [
       "['diabetes_prediction.joblib']"
      ]
     },
     "execution_count": 32,
     "metadata": {},
     "output_type": "execute_result"
    }
   ],
   "source": [
    "from joblib import dump\n",
    "dump(model, filename=\"diabetes_prediction.joblib\")"
   ]
  },
  {
   "cell_type": "code",
   "execution_count": null,
   "metadata": {},
   "outputs": [],
   "source": []
  }
 ],
 "metadata": {
  "kernelspec": {
   "display_name": "Python 3",
   "language": "python",
   "name": "python3"
  },
  "language_info": {
   "codemirror_mode": {
    "name": "ipython",
    "version": 3
   },
   "file_extension": ".py",
   "mimetype": "text/x-python",
   "name": "python",
   "nbconvert_exporter": "python",
   "pygments_lexer": "ipython3",
   "version": "3.7.5"
  }
 },
 "nbformat": 4,
 "nbformat_minor": 2
}
